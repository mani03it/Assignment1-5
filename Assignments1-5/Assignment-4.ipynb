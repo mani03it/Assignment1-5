{
 "cells": [
  {
   "cell_type": "markdown",
   "metadata": {},
   "source": [
    "1.1 Write a Python Program(with class concepts) to find the area of the triangle using the below formula.\n",
    "\n",
    "area = (s*(s-a)*(s-b)*(s-c))**0.5\n",
    "\n",
    "Function to take the length of the sides of triangle from user should be defined in the parent class and function to calculate the area should be defined in subclass."
   ]
  },
  {
   "cell_type": "code",
   "execution_count": 1,
   "metadata": {},
   "outputs": [
    {
     "name": "stdout",
     "output_type": "stream",
     "text": [
      "Enter side a 6\n",
      "Enter side b 8\n",
      "Enter side c 10\n",
      "a =  6, b = 8, c= 10 \n",
      "s = 12.0\n",
      "Area of the Triangle = 24.0\n"
     ]
    }
   ],
   "source": [
    "class Triangle:    \n",
    "    def __init__(self,a,b,c):\n",
    "        self.a = a\n",
    "        self.b = b\n",
    "        self.c = c\n",
    "        print (\"a =  {}, b = {}, c= {} \".format(str(a) ,str(b) ,str(c)))\n",
    "            \n",
    "\n",
    "class ChildTriangle(Triangle):    \n",
    "    def __init__(self,a,b,c):\n",
    "        super(ChildTriangle, self).__init__(a,b,c)\n",
    "        \n",
    "    def findArea(self):\n",
    "        s = (self.a + self.b + self.c)/2\n",
    "        print(\"s = %s\" %str(s))\n",
    "        return (s*(s-self.a)*(s-self.b)*(s-self.c))**0.5\n",
    "\n",
    "    \n",
    "a = int(input(\"Enter side a \"))\n",
    "b = int(input(\"Enter side b \"))\n",
    "c = int(input(\"Enter side c \"))\n",
    "obj = ChildTriangle(a,b,c)\n",
    "print (\"Area of the Triangle = \" + str(obj.findArea()) )"
   ]
  },
  {
   "cell_type": "markdown",
   "metadata": {},
   "source": [
    "1.2 Write a function filter_long_words() that takes a list of words and an integer n and returns the list of words that are longer than n."
   ]
  },
  {
   "cell_type": "code",
   "execution_count": 2,
   "metadata": {},
   "outputs": [
    {
     "name": "stdout",
     "output_type": "stream",
     "text": [
      "Enter number of characters: 3\n",
      "The words that are longer than 3 characters are : ['name', 'Manikandan', 'Sarangapani']\n"
     ]
    }
   ],
   "source": [
    "class FindLongWords:\n",
    "    def __init__(self, words):\n",
    "        self.words = words        \n",
    "    \n",
    "    def filter_long_words(self, n):\n",
    "        return list(filter(lambda x:len(x) > n, self.words))\n",
    "\n",
    "obj = FindLongWords([\"My\",\"name\",\"is\",\"Manikandan\",\"Sarangapani\"])\n",
    "n = int(input(\"Enter number of characters: \"))\n",
    "print(\"The words that are longer than \"+ str(n)+\" characters are : \" + str(obj.filter_long_words(n)) ) "
   ]
  },
  {
   "cell_type": "markdown",
   "metadata": {},
   "source": [
    "2.1 Write a Python program using function concept that maps list of words into a list of integers representing the lengths of the corresponding words.\n",
    "\n",
    "**Hint:** If a list [ab, cde, erty] is passed on to the python function output should come as [2,3,4]\n",
    "\n",
    "Here 2,3,4 are the lengths of the words in the list."
   ]
  },
  {
   "cell_type": "code",
   "execution_count": 43,
   "metadata": {},
   "outputs": [
    {
     "name": "stdout",
     "output_type": "stream",
     "text": [
      "The list of words: ['ab', 'cde', 'erty']\n",
      "The lengths of the words: [2, 3, 4]\n"
     ]
    }
   ],
   "source": [
    "def wordlengths(words):\n",
    "    return list(map(lambda x: len(x), words))    \n",
    "    \n",
    "words = ['ab','cde','erty']\n",
    "print(\"The list of words: \"+ str(words)) \n",
    "print(\"The lengths of the words: \" + str(wordlengths(words)))"
   ]
  },
  {
   "cell_type": "markdown",
   "metadata": {},
   "source": [
    "2.2 Write a Python function which takes a character (i.e. a string of length 1) and returns True if it is a vowel. False otherwise."
   ]
  },
  {
   "cell_type": "code",
   "execution_count": 4,
   "metadata": {},
   "outputs": [
    {
     "name": "stdout",
     "output_type": "stream",
     "text": [
      "Enter a character: a\n",
      "True\n"
     ]
    }
   ],
   "source": [
    "vowels = ['a','e','i','o','u']\n",
    "\n",
    "def isVowel(character):\n",
    "    for vowel in vowels:\n",
    "        if vowel == character:\n",
    "            print('True')\n",
    "            break\n",
    "    else:\n",
    "        print('False')\n",
    "\n",
    "character = input(\"Enter a character: \")\n",
    "if ((len(character) > 1) or (character.isalpha() == False)) :\n",
    "    print(\"Enter valid character\")\n",
    "else :\n",
    "    isVowel(character)"
   ]
  }
 ],
 "metadata": {
  "kernelspec": {
   "display_name": "Python 3",
   "language": "python",
   "name": "python3"
  },
  "language_info": {
   "codemirror_mode": {
    "name": "ipython",
    "version": 3
   },
   "file_extension": ".py",
   "mimetype": "text/x-python",
   "name": "python",
   "nbconvert_exporter": "python",
   "pygments_lexer": "ipython3",
   "version": "3.7.1"
  }
 },
 "nbformat": 4,
 "nbformat_minor": 2
}
