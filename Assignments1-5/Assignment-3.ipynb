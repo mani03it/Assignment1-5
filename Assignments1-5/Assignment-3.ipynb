{
 "cells": [
  {
   "cell_type": "markdown",
   "metadata": {},
   "source": [
    "1.1 Write a Python Program to implement your own myreduce() function which works exactly like Python's built-in function reduce()"
   ]
  },
  {
   "cell_type": "code",
   "execution_count": 1,
   "metadata": {},
   "outputs": [
    {
     "name": "stdout",
     "output_type": "stream",
     "text": [
      "Sum of the numbers in the given list using myreduce() is : 113\n"
     ]
    }
   ],
   "source": [
    "def myreduce(func_name, sequence):\n",
    "    result = sequence[0]\n",
    "    for item in sequence[1:]:\n",
    "        result = func_name(result, item)\n",
    "    return result\n",
    "\n",
    "lst =[47,11,42,13]\n",
    "print(\"Sum of the numbers in the given list using myreduce() is : \"+ str(myreduce(lambda x,y: x+y,lst)))"
   ]
  },
  {
   "cell_type": "markdown",
   "metadata": {},
   "source": [
    "1.2 Write a Python Program to implement your own myfilter() function which works exactly like Python's built-in function filter()"
   ]
  },
  {
   "cell_type": "code",
   "execution_count": 8,
   "metadata": {},
   "outputs": [
    {
     "name": "stdout",
     "output_type": "stream",
     "text": [
      "Even numbers from the range using myfilter() is: [0, 2, 4, 6, 8, 10, 12, 14, 16, 18]\n"
     ]
    }
   ],
   "source": [
    "def myfilter(func_name, sequence):\n",
    "    result = []\n",
    "    for item in sequence:\n",
    "        if func_name(item):\n",
    "            result.append(item)\n",
    "    return result\n",
    "\n",
    "def even_check(num):\n",
    "    if num%2 ==0:\n",
    "        return True\n",
    "    \n",
    "lst =range(20)\n",
    "\n",
    "print(\"Even numbers from the range using myfilter() is: \" +str(myfilter(even_check,lst)))"
   ]
  },
  {
   "cell_type": "markdown",
   "metadata": {},
   "source": [
    "2. Implement List comprehensions to produce the following lists.\n",
    "\n",
    "Write List comprehensions to produce the following Lists\n",
    "\n",
    "['A','C','A','D','G','I','L','D']\n",
    "\n",
    "['x','XX','XXX','XXXX','y','yy','yyy','yyyy','z','zz','zzz','zzzz']\n",
    "\n",
    "['x','y','z','XX','yy','zz','XXX','yyy','zzz','XXXX','yyyy','zzzz']\n",
    "\n",
    "[[2],[3],[4],[3],[4],[5],[4],[5],[6]]\n",
    "\n",
    "[[2,3,4,5],[3,4,5,6]],[4,5,6,7],[5,6,7,8]]\n",
    "\n",
    "[(1,1),(2,1),(3,1),(1,2),(2,2),(3,2),(1,3),(2,3),(3,3)]\n"
   ]
  },
  {
   "cell_type": "code",
   "execution_count": 11,
   "metadata": {},
   "outputs": [
    {
     "name": "stdout",
     "output_type": "stream",
     "text": [
      "['A', 'C', 'A', 'D', 'G', 'I', 'L', 'D']\n",
      "['x', 'xx', 'xxx', 'xxxx', 'y', 'yy', 'yyy', 'yyyy', 'z', 'zz', 'zzz', 'zzzz']\n",
      "['x', 'y', 'z', 'xx', 'yy', 'zz', 'xxx', 'yyy', 'zzz', 'xxxx', 'yyyy', 'zzzz']\n",
      "[[2], [3], [4], [3], [4], [5], [4], [5], [6]]\n",
      "[[2, 3, 4, 5], [3, 4, 5, 6], [4, 5, 6, 7], [5, 6, 7, 8]]\n",
      "[(1, 1), (2, 1), (3, 1), (1, 2), (2, 2), (3, 2), (1, 3), (2, 3), (3, 3)]\n"
     ]
    }
   ],
   "source": [
    "word = \"ACADGILD\"\n",
    "letters = [ letter for letter in word ]\n",
    "print(str(letters))\n",
    "\n",
    "letters = ['x','y','z']\n",
    "output = [ letter*i for letter in letters for i in range(1,5)  ]\n",
    "print(str(output))\n",
    "\n",
    "letters = ['x','y','z']\n",
    "output = [ letter*i for i in range(1,5) for letter in letters  ]\n",
    "print(str(output))\n",
    "\n",
    "numbers = [2,3,4]\n",
    "output = [ [number+i] for number in numbers for i in range(0,3)]\n",
    "print(str(output))\n",
    "\n",
    "numbers = [2,3,4,5]\n",
    "output = [ [number+i for number in numbers] for i in range(0,4)  ]\n",
    "print(str(output))\n",
    "\n",
    "numbers=[1,2,3]\n",
    "output = [ (b,a) for a in numbers for b in numbers]\n",
    "print(str(output))"
   ]
  },
  {
   "cell_type": "markdown",
   "metadata": {},
   "source": [
    "3. Implement a function longestWord() that takes a list of words and return the longest one"
   ]
  },
  {
   "cell_type": "code",
   "execution_count": 12,
   "metadata": {},
   "outputs": [
    {
     "name": "stdout",
     "output_type": "stream",
     "text": [
      "The longest word in the list is: Sarangapani \n"
     ]
    }
   ],
   "source": [
    "def longestWord(words):\n",
    "    sortedwords = sorted(words, key=len)\n",
    "    return (sortedwords[-1],)\n",
    "\n",
    "words=[\"My\",\"name\",\"is\",\"Manikandan\",\"Sarangapani\"]\n",
    "\n",
    "print( \"The longest word in the list is: %s \" % longestWord(words))"
   ]
  }
 ],
 "metadata": {
  "kernelspec": {
   "display_name": "Python 3",
   "language": "python",
   "name": "python3"
  },
  "language_info": {
   "codemirror_mode": {
    "name": "ipython",
    "version": 3
   },
   "file_extension": ".py",
   "mimetype": "text/x-python",
   "name": "python",
   "nbconvert_exporter": "python",
   "pygments_lexer": "ipython3",
   "version": "3.7.1"
  }
 },
 "nbformat": 4,
 "nbformat_minor": 2
}
